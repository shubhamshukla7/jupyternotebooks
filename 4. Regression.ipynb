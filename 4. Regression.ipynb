{
 "cells": [
  {
   "cell_type": "markdown",
   "metadata": {},
   "source": [
    "## Imports"
   ]
  },
  {
   "cell_type": "code",
   "execution_count": 1,
   "metadata": {
    "collapsed": true
   },
   "outputs": [],
   "source": [
    "from sklearn import datasets, linear_model\n",
    "import numpy as np"
   ]
  },
  {
   "cell_type": "markdown",
   "metadata": {},
   "source": [
    "## Get dataset"
   ]
  },
  {
   "cell_type": "code",
   "execution_count": 6,
   "metadata": {
    "collapsed": true
   },
   "outputs": [],
   "source": [
    "diabetes = datasets.load_diabetes()\n",
    "\n",
    "diabetes_X = diabetes.data\n",
    "diabetes_y = diabetes.target\n",
    "\n",
    "# Shuffle data before dividing it into training and test datasets\n",
    "np.random.seed(0)\n",
    "indices = np.random.permutation(len(diabetes_y))\n",
    "\n",
    "diabetes_X_train = diabetes_X[indices[:-20]]\n",
    "diabetes_y_train = diabetes_y[indices[:-20]]\n",
    "diabetes_X_test = diabetes_X[indices[-20:]]\n",
    "diabetes_y_test = diabetes_y[indices[-20:]]"
   ]
  },
  {
   "cell_type": "markdown",
   "metadata": {},
   "source": [
    "# Linear Regression"
   ]
  },
  {
   "cell_type": "markdown",
   "metadata": {},
   "source": [
    "## Model Training"
   ]
  },
  {
   "cell_type": "code",
   "execution_count": 3,
   "metadata": {},
   "outputs": [
    {
     "data": {
      "text/plain": [
       "array([  -3.78606011, -235.47377739,  533.3485139 ,  321.69200267,\n",
       "       -827.89481203,  521.12370087,  115.57077061,  159.58767508,\n",
       "        742.51130661,   55.80177895])"
      ]
     },
     "execution_count": 3,
     "metadata": {},
     "output_type": "execute_result"
    }
   ],
   "source": [
    "regr = linear_model.LinearRegression()\n",
    "regr.fit(diabetes_X_train, diabetes_y_train)\n",
    "regr.coef_"
   ]
  },
  {
   "cell_type": "markdown",
   "metadata": {},
   "source": [
    "## Prediction and benchmarking"
   ]
  },
  {
   "cell_type": "code",
   "execution_count": 7,
   "metadata": {},
   "outputs": [
    {
     "name": "stdout",
     "output_type": "stream",
     "text": [
      "('MSE: ', 3171.5237990479986)\n",
      "('Score: ', 0.63775706901832518)\n"
     ]
    }
   ],
   "source": [
    "# Mean Squared error\n",
    "mse = np.mean((regr.predict(diabetes_X_test) - diabetes_y_test) ** 2)\n",
    "print(\"MSE: \", mse)\n",
    "\n",
    "# Score: 0 implies there is no linear relationship, 1 is perfect prediction\n",
    "score = regr.score(diabetes_X_test, diabetes_y_test)\n",
    "print(\"Score: \", score)"
   ]
  },
  {
   "cell_type": "markdown",
   "metadata": {},
   "source": [
    "# Ridge Regression"
   ]
  },
  {
   "cell_type": "markdown",
   "metadata": {},
   "source": [
    "## Model Training"
   ]
  },
  {
   "cell_type": "code",
   "execution_count": 10,
   "metadata": {},
   "outputs": [
    {
     "data": {
      "text/plain": [
       "array([  31.31725578,  -77.29426972,  305.40066449,  197.22411856,\n",
       "          4.40038891,  -26.25411444, -145.55812267,  109.99426897,\n",
       "        246.61932133,  107.23784543])"
      ]
     },
     "execution_count": 10,
     "metadata": {},
     "output_type": "execute_result"
    }
   ],
   "source": [
    "regr = linear_model.Ridge()\n",
    "regr.fit(diabetes_X_train, diabetes_y_train)\n",
    "regr.coef_"
   ]
  },
  {
   "cell_type": "markdown",
   "metadata": {},
   "source": [
    "## Prediction and benchmarking"
   ]
  },
  {
   "cell_type": "code",
   "execution_count": 13,
   "metadata": {},
   "outputs": [
    {
     "name": "stdout",
     "output_type": "stream",
     "text": [
      "('MSE: ', 4134.2045556140847)\n",
      "('Score: ', 0.52780225834881911)\n"
     ]
    }
   ],
   "source": [
    "# Mean Squared error\n",
    "mse = np.mean((regr.predict(diabetes_X_test) - diabetes_y_test) ** 2)\n",
    "print(\"MSE: \", mse)\n",
    "\n",
    "# Score: 0 implies there is no linear relationship, 1 is perfect prediction\n",
    "score = regr.score(diabetes_X_test, diabetes_y_test)\n",
    "print(\"Score: \", score)"
   ]
  }
 ],
 "metadata": {
  "kernelspec": {
   "display_name": "Python 2",
   "language": "python",
   "name": "python2"
  },
  "language_info": {
   "codemirror_mode": {
    "name": "ipython",
    "version": 2
   },
   "file_extension": ".py",
   "mimetype": "text/x-python",
   "name": "python",
   "nbconvert_exporter": "python",
   "pygments_lexer": "ipython2",
   "version": "2.7.12"
  }
 },
 "nbformat": 4,
 "nbformat_minor": 2
}
