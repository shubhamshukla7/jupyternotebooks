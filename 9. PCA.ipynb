{
 "cells": [
  {
   "cell_type": "code",
   "execution_count": 42,
   "metadata": {},
   "outputs": [],
   "source": [
    "import numpy as np\n",
    "import matplotlib.pyplot as plt\n",
    "from sklearn import decomposition, datasets"
   ]
  },
  {
   "cell_type": "code",
   "execution_count": 31,
   "metadata": {},
   "outputs": [],
   "source": [
    "digits = datasets.load_digits()\n",
    "digits_X = digits.data\n",
    "digits_y = digits.target"
   ]
  },
  {
   "cell_type": "code",
   "execution_count": 33,
   "metadata": {},
   "outputs": [
    {
     "data": {
      "text/plain": [
       "PCA(copy=True, iterated_power='auto', n_components=None, random_state=None,\n",
       "  svd_solver='auto', tol=0.0, whiten=False)"
      ]
     },
     "execution_count": 33,
     "metadata": {},
     "output_type": "execute_result"
    }
   ],
   "source": [
    "pca = decomposition.PCA()\n",
    "pca.fit(digits_X)"
   ]
  },
  {
   "cell_type": "code",
   "execution_count": 43,
   "metadata": {
    "scrolled": false
   },
   "outputs": [
    {
     "data": {
      "text/plain": [
       "array([  1.78907316e+02,   1.63626641e+02,   1.41709536e+02,\n",
       "         1.01044115e+02,   6.94744827e+01,   5.90756320e+01,\n",
       "         5.18556662e+01,   4.39906130e+01,   4.02885629e+01,\n",
       "         3.69912020e+01,   2.85031708e+01,   2.73059660e+01,\n",
       "         2.18893003e+01,   2.13124899e+01,   1.76269077e+01,\n",
       "         1.69374332e+01,   1.58425689e+01,   1.49961105e+01,\n",
       "         1.22276649e+01,   1.08808010e+01,   1.06876155e+01,\n",
       "         9.57726524e+00,   9.22126826e+00,   8.68553268e+00,\n",
       "         8.36095658e+00,   7.16179198e+00,   6.91588809e+00,\n",
       "         6.18950881e+00,   5.88171633e+00,   5.15299774e+00,\n",
       "         4.48879723e+00,   4.24451468e+00,   4.04518650e+00,\n",
       "         3.94120891e+00,   3.70440987e+00,   3.52968776e+00,\n",
       "         3.08285758e+00,   2.73627648e+00,   2.67062197e+00,\n",
       "         2.54029121e+00,   2.28171700e+00,   1.90618094e+00,\n",
       "         1.81615447e+00,   1.68902395e+00,   1.40119202e+00,\n",
       "         1.29149979e+00,   1.15828926e+00,   9.30701800e-01,\n",
       "         6.69477833e-01,   4.85794730e-01,   2.52210004e-01,\n",
       "         9.90976176e-02,   6.30956535e-02,   6.07039586e-02,\n",
       "         3.96441561e-02,   1.49422438e-02,   8.46835749e-03,\n",
       "         3.62164306e-03,   1.27634048e-03,   6.60902920e-04,\n",
       "         4.11993910e-04,   1.14223098e-30,   1.14223098e-30,\n",
       "         1.12479977e-30])"
      ]
     },
     "execution_count": 43,
     "metadata": {},
     "output_type": "execute_result"
    }
   ],
   "source": [
    "pca.explained_variance_"
   ]
  },
  {
   "cell_type": "code",
   "execution_count": 52,
   "metadata": {},
   "outputs": [
    {
     "data": {
      "image/png": "[encoded data removed]",
      "text/plain": [
       "<matplotlib.figure.Figure at 0x7fe40f801350>"
      ]
     },
     "metadata": {},
     "output_type": "display_data"
    }
   ],
   "source": [
    "# plt.axes([.2, .2, .7, .7])\n",
    "plt.plot(pca.explained_variance_, linewidth=2)\n",
    "plt.axis('tight')\n",
    "plt.xlabel('n_components')\n",
    "plt.ylabel('explained_variance_')\n",
    "plt.show()"
   ]
  },
  {
   "cell_type": "code",
   "execution_count": 56,
   "metadata": {},
   "outputs": [
    {
     "data": {
      "text/plain": [
       "(1797, 40)"
      ]
     },
     "execution_count": 56,
     "metadata": {},
     "output_type": "execute_result"
    }
   ],
   "source": [
    "pca.n_components = 40\n",
    "X_reduced = pca.fit_transform(digits_X)\n",
    "X_reduced.shape"
   ]
  }
 ],
 "metadata": {
  "kernelspec": {
   "display_name": "Python 2",
   "language": "python",
   "name": "python2"
  },
  "language_info": {
   "codemirror_mode": {
    "name": "ipython",
    "version": 2
   },
   "file_extension": ".py",
   "mimetype": "text/x-python",
   "name": "python",
   "nbconvert_exporter": "python",
   "pygments_lexer": "ipython2",
   "version": "2.7.12"
  }
 },
 "nbformat": 4,
 "nbformat_minor": 2
}
