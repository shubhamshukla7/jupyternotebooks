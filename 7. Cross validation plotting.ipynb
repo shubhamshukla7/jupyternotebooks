{
 "cells": [
  {
   "cell_type": "markdown",
   "metadata": {},
   "source": [
    "# Import modules"
   ]
  },
  {
   "cell_type": "code",
   "execution_count": 2,
   "metadata": {
    "collapsed": true
   },
   "outputs": [],
   "source": [
    "import numpy as np\n",
    "import matplotlib.pyplot as plt\n",
    "from sklearn import svm, datasets\n",
    "from sklearn.model_selection import cross_val_score"
   ]
  },
  {
   "cell_type": "markdown",
   "metadata": {},
   "source": [
    "# Load data"
   ]
  },
  {
   "cell_type": "code",
   "execution_count": 4,
   "metadata": {},
   "outputs": [
    {
     "data": {
      "text/plain": [
       "numpy.ndarray"
      ]
     },
     "execution_count": 4,
     "metadata": {},
     "output_type": "execute_result"
    }
   ],
   "source": [
    "digits = datasets.load_digits()\n",
    "digits_X = digits.data\n",
    "digits_y = digits.target\n"
   ]
  },
  {
   "cell_type": "markdown",
   "metadata": {},
   "source": [
    "# Model Parameter"
   ]
  },
  {
   "cell_type": "code",
   "execution_count": 3,
   "metadata": {
    "collapsed": true
   },
   "outputs": [],
   "source": [
    "C = np.logspace(-10, 0, 10)"
   ]
  },
  {
   "cell_type": "code",
   "execution_count": 18,
   "metadata": {},
   "outputs": [
    {
     "name": "stdout",
     "output_type": "stream",
     "text": [
      "[0.15552937214547155, 0.15552937214547155, 0.15552937214547155, 0.15552937214547155, 0.15552937214547155, 0.90260270247335728, 0.9482070815179453, 0.94490714734074643, 0.94379972762867548, 0.94379972762867548]\n",
      "[0.076292469084665332, 0.076292469084665332, 0.076292469084665332, 0.076292469084665332, 0.076292469084665332, 0.0032176973078911469, 0.013615673615136992, 0.0094479379245719138, 0.010287004922697952, 0.010287004922697952]\n",
      "<type 'numpy.ndarray'>\n"
     ]
    }
   ],
   "source": [
    "# SVC classifier model\n",
    "\n",
    "scores_mean = list()\n",
    "scores_std = list()\n",
    "for c in C:\n",
    "    svc = svm.SVC(kernel='linear', C=c)\n",
    "    scores = cross_val_score(svc, digits_X, digits_y, n_jobs = -1)\n",
    "    scores_mean.append(scores.mean())\n",
    "    scores_std.append(scores.std())\n",
    "    \n",
    "print(scores_mean)\n",
    "print(scores_std)\n",
    "\n",
    "print(type(C))\n"
   ]
  },
  {
   "cell_type": "code",
   "execution_count": 60,
   "metadata": {},
   "outputs": [
    {
     "data": {
      "image/png": "[encoded data removed]",
      "text/plain": [
       "<matplotlib.figure.Figure at 0x7f614df47e50>"
      ]
     },
     "metadata": {},
     "output_type": "display_data"
    }
   ],
   "source": [
    "plt.figure(1, figsize=(8, 5))\n",
    "plt.clf()\n",
    "plt.semilogx(C, scores_mean, 'b')\n",
    "plt.semilogx(C, np.array(scores_mean) + np.array(scores_std), 'g--')\n",
    "plt.semilogx(C, np.array(scores_mean) - np.array(scores_std), 'g--')\n",
    "plt.ylabel('CV score')\n",
    "plt.xlabel('Parameter C')\n",
    "plt.ylim(0, 1.1)\n",
    "plt.show()"
   ]
  }
 ],
 "metadata": {
  "kernelspec": {
   "display_name": "Python 2",
   "language": "python",
   "name": "python2"
  },
  "language_info": {
   "codemirror_mode": {
    "name": "ipython",
    "version": 2
   },
   "file_extension": ".py",
   "mimetype": "text/x-python",
   "name": "python",
   "nbconvert_exporter": "python",
   "pygments_lexer": "ipython2",
   "version": "2.7.12"
  }
 },
 "nbformat": 4,
 "nbformat_minor": 2
}
